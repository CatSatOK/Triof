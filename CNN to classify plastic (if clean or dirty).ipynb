{
 "cells": [
  {
   "cell_type": "code",
   "execution_count": 23,
   "id": "2a07fcf2-169e-444b-90a2-005bc02840ca",
   "metadata": {},
   "outputs": [],
   "source": [
    "# Librairies\n",
    "from keras.models import Sequential\n",
    "from keras.layers import Conv2D\n",
    "from keras.layers import MaxPooling2D\n",
    "from keras.layers import Flatten\n",
    "from keras.layers import Dense\n",
    "from keras.preprocessing.image import ImageDataGenerator"
   ]
  },
  {
   "cell_type": "code",
   "execution_count": 24,
   "id": "244dffd0-ebbe-45fd-83b0-45c95e200504",
   "metadata": {},
   "outputs": [],
   "source": [
    "#making test model\n",
    "# Initialisation\n",
    "classifier = Sequential()\n",
    "\n",
    "# La Convolution\n",
    "classifier.add(Conv2D(32, (3, 3), input_shape = (64, 64, 3), activation = 'relu'))\n",
    "\n",
    "# Max Pooling\n",
    "classifier.add(MaxPooling2D(pool_size = (2, 2)))\n",
    "\n",
    "# adding conv and maxpooling\n",
    "classifier.add(Conv2D(32, (3, 3), activation = 'relu'))\n",
    "classifier.add(MaxPooling2D(pool_size = (2, 2)))\n",
    "\n",
    "# Flattening\n",
    "classifier.add(Flatten())\n",
    "\n",
    "# connected layer\n",
    "classifier.add(Dense(units = 128, activation = 'relu'))\n",
    "classifier.add(Dense(units = 1, activation = 'sigmoid'))\n",
    "\n",
    "# training parameters\n",
    "classifier.compile(optimizer = 'adam', loss = 'binary_crossentropy', metrics = ['accuracy'])"
   ]
  },
  {
   "cell_type": "code",
   "execution_count": 112,
   "id": "4caa0e31-abf2-4c94-a9ca-693f5f9f1f3e",
   "metadata": {},
   "outputs": [
    {
     "name": "stdout",
     "output_type": "stream",
     "text": [
      "Found 252 images belonging to 2 classes.\n",
      "Found 92 images belonging to 2 classes.\n",
      "Epoch 1/30\n",
      "8/8 [==============================] - ETA: 0s - loss: 0.4888 - accuracy: 0.7703WARNING:tensorflow:Your input ran out of data; interrupting training. Make sure that your dataset or generator can generate at least `steps_per_epoch * epochs` batches (in this case, 5 batches). You may need to use the repeat() function when building your dataset.\n",
      "8/8 [==============================] - 7s 909ms/step - loss: 0.4888 - accuracy: 0.7703 - val_loss: 0.4197 - val_accuracy: 0.8587\n",
      "Epoch 2/30\n",
      "8/8 [==============================] - 2s 287ms/step - loss: 0.2863 - accuracy: 0.8649\n",
      "Epoch 3/30\n",
      "8/8 [==============================] - 2s 277ms/step - loss: 0.2266 - accuracy: 0.9324\n",
      "Epoch 4/30\n",
      "8/8 [==============================] - 2s 257ms/step - loss: 0.1928 - accuracy: 0.9324\n",
      "Epoch 5/30\n",
      "8/8 [==============================] - 2s 264ms/step - loss: 0.1683 - accuracy: 0.9459\n",
      "Epoch 6/30\n",
      "8/8 [==============================] - 2s 263ms/step - loss: 0.1670 - accuracy: 0.9279\n",
      "Epoch 7/30\n",
      "8/8 [==============================] - 2s 285ms/step - loss: 0.1319 - accuracy: 0.9505\n",
      "Epoch 8/30\n",
      "8/8 [==============================] - 2s 293ms/step - loss: 0.1217 - accuracy: 0.9667\n",
      "Epoch 9/30\n",
      "8/8 [==============================] - 2s 285ms/step - loss: 0.0854 - accuracy: 0.9820\n",
      "Epoch 10/30\n",
      "8/8 [==============================] - 2s 268ms/step - loss: 0.1022 - accuracy: 0.9820\n",
      "Epoch 11/30\n",
      "8/8 [==============================] - 2s 232ms/step - loss: 0.0736 - accuracy: 0.9910\n",
      "Epoch 12/30\n",
      "8/8 [==============================] - 2s 264ms/step - loss: 0.0774 - accuracy: 0.9875\n",
      "Epoch 13/30\n",
      "8/8 [==============================] - 2s 245ms/step - loss: 0.0730 - accuracy: 0.9820\n",
      "Epoch 14/30\n",
      "8/8 [==============================] - 2s 262ms/step - loss: 0.0494 - accuracy: 0.9865\n",
      "Epoch 15/30\n",
      "8/8 [==============================] - 2s 221ms/step - loss: 0.0503 - accuracy: 0.9910\n",
      "Epoch 16/30\n",
      "8/8 [==============================] - 2s 276ms/step - loss: 0.0427 - accuracy: 1.0000\n",
      "Epoch 17/30\n",
      "8/8 [==============================] - 2s 282ms/step - loss: 0.0406 - accuracy: 1.0000\n",
      "Epoch 18/30\n",
      "8/8 [==============================] - 2s 284ms/step - loss: 0.0485 - accuracy: 0.9865\n",
      "Epoch 19/30\n",
      "8/8 [==============================] - 3s 357ms/step - loss: 0.0403 - accuracy: 0.9955\n",
      "Epoch 20/30\n",
      "8/8 [==============================] - 3s 332ms/step - loss: 0.0253 - accuracy: 1.0000\n",
      "Epoch 21/30\n",
      "8/8 [==============================] - 2s 287ms/step - loss: 0.0327 - accuracy: 1.0000\n",
      "Epoch 22/30\n",
      "8/8 [==============================] - 2s 266ms/step - loss: 0.0306 - accuracy: 0.9910\n",
      "Epoch 23/30\n",
      "8/8 [==============================] - 2s 258ms/step - loss: 0.0260 - accuracy: 1.0000\n",
      "Epoch 24/30\n",
      "8/8 [==============================] - 2s 269ms/step - loss: 0.0375 - accuracy: 0.9865\n",
      "Epoch 25/30\n",
      "8/8 [==============================] - 2s 269ms/step - loss: 0.0532 - accuracy: 0.9865\n",
      "Epoch 26/30\n",
      "8/8 [==============================] - 2s 259ms/step - loss: 0.0300 - accuracy: 0.9865\n",
      "Epoch 27/30\n",
      "8/8 [==============================] - 2s 254ms/step - loss: 0.0254 - accuracy: 1.0000\n",
      "Epoch 28/30\n",
      "8/8 [==============================] - 2s 304ms/step - loss: 0.0213 - accuracy: 0.9955\n",
      "Epoch 29/30\n",
      "8/8 [==============================] - 2s 303ms/step - loss: 0.0280 - accuracy: 0.9955\n",
      "Epoch 30/30\n",
      "8/8 [==============================] - 2s 275ms/step - loss: 0.0224 - accuracy: 0.9955\n"
     ]
    },
    {
     "data": {
      "text/plain": [
       "<tensorflow.python.keras.callbacks.History at 0x16316097610>"
      ]
     },
     "execution_count": 112,
     "metadata": {},
     "output_type": "execute_result"
    }
   ],
   "source": [
    "#model to predict if plastic is clean or dirty\n",
    "\n",
    "from keras.applications.vgg16 import VGG16\n",
    "from keras.layers import Dense, Flatten\n",
    "from keras.models import Model\n",
    "from keras.preprocessing.image import ImageDataGenerator\n",
    "\n",
    "# defining the VGG16\n",
    "classifier_vgg16_2 = VGG16(weights='imagenet', include_top=False, input_shape=(64, 64, 3))\n",
    "\n",
    "#Defining the hidden layers as untrainable\n",
    "#(we could retrain them or choose to retrain only the first ones for example)\n",
    "for layer in classifier_vgg16_2.layers:\n",
    "    layer.trainable = False\n",
    "\n",
    "#adding layers specific to our classification problem\n",
    "flat2 = Flatten()(classifier_vgg16_2.output)\n",
    "classif2 = Dense(128, activation='relu', kernel_initializer='he_uniform')(flat2)\n",
    "output2 = Dense(1, activation='sigmoid')(classif2)\n",
    "\n",
    "classifier_vgg16_2 = Model(inputs=classifier_vgg16_2.inputs, outputs=output2)\n",
    "\n",
    "classifier_vgg16_2.compile(optimizer='adam', loss='binary_crossentropy', metrics=['accuracy'])\n",
    "\n",
    "#training\n",
    "train_datagen_2 = ImageDataGenerator(rescale = 1./255,\n",
    "                                   shear_range = 0.2,\n",
    "                                   zoom_range = 0.2,\n",
    "                                   horizontal_flip = True)\n",
    "\n",
    "test_datagen_2 = ImageDataGenerator(rescale = 1./255)\n",
    "\n",
    "training_set_2 = train_datagen_2.flow_from_directory(\"C:/Users/catri/OneDrive/Simplon/IA-P2-Euskadi with my Triof project/Projets/Projet P8 - Triof/triof/cleandirty_training\",\n",
    "                                                 target_size = (64, 64),\n",
    "                                                 batch_size = 30,\n",
    "                                                 class_mode = 'binary')\n",
    "\n",
    "test_set_2 = test_datagen_2.flow_from_directory(\"C:/Users/catri/OneDrive/Simplon/IA-P2-Euskadi with my Triof project/Projets/Projet P8 - Triof/triof/cleandirty_test\",\n",
    "                                            target_size = (64, 64),\n",
    "                                            batch_size = 30,\n",
    "                                            class_mode = 'binary')\n",
    "\n",
    "classifier_vgg16_2.fit(training_set_2,\n",
    "               steps_per_epoch = 8, #250/30 = 8.33\n",
    "               epochs = 30,\n",
    "               validation_data = test_set_2,\n",
    "               validation_steps=5)"
   ]
  },
  {
   "cell_type": "code",
   "execution_count": 121,
   "id": "4a46787e-533d-4341-8068-d569271d6c71",
   "metadata": {},
   "outputs": [
    {
     "name": "stdout",
     "output_type": "stream",
     "text": [
      "[[1.]]\n",
      "Item is dirty\n"
     ]
    },
    {
     "data": {
      "image/png": "[encoded data removed]",
      "text/plain": [
       "<Figure size 432x288 with 1 Axes>"
      ]
     },
     "metadata": {
      "needs_background": "light"
     },
     "output_type": "display_data"
    }
   ],
   "source": [
    "from keras.preprocessing import image\n",
    "import matplotlib.pyplot as plt\n",
    "\n",
    "#showing test image\n",
    "img = image.load_img(\"C:/Users/catri/OneDrive/Simplon/IA-P2-Euskadi with my Triof project/Projets/Projet P8 - Triof/triof/cleandirty_test/dirty_plastics/0f8ada3d14.jpg\",target_size=(64,64))\n",
    "img = np.asarray(img)\n",
    "plt.imshow(img)\n",
    "img = np.expand_dims(img, axis=0)\n",
    "\n",
    "#making prediction\n",
    "output = classifier_vgg16_2.predict(img)\n",
    "print(output)\n",
    "\n",
    "#returning prediction\n",
    "if output <= 0.5:\n",
    "    print('Item is clean')\n",
    "else:\n",
    "    print('Item is dirty')\n",
    "    \n"
   ]
  },
  {
   "cell_type": "code",
   "execution_count": 122,
   "id": "0e2f1e34-5b0d-42a9-ab6c-247cc0014562",
   "metadata": {},
   "outputs": [
    {
     "name": "stdout",
     "output_type": "stream",
     "text": [
      "WARNING:tensorflow:From C:\\Users\\catri\\anaconda3\\lib\\site-packages\\tensorflow\\python\\training\\tracking\\tracking.py:111: Model.state_updates (from tensorflow.python.keras.engine.training) is deprecated and will be removed in a future version.\n",
      "Instructions for updating:\n",
      "This property should not be used in TensorFlow 2.0, as updates are applied automatically.\n",
      "WARNING:tensorflow:From C:\\Users\\catri\\anaconda3\\lib\\site-packages\\tensorflow\\python\\training\\tracking\\tracking.py:111: Layer.updates (from tensorflow.python.keras.engine.base_layer) is deprecated and will be removed in a future version.\n",
      "Instructions for updating:\n",
      "This property should not be used in TensorFlow 2.0, as updates are applied automatically.\n",
      "INFO:tensorflow:Assets written to: clean or dirty classifier\\assets\n"
     ]
    }
   ],
   "source": [
    "#saving the model\n",
    "classifier_vgg16_2.save(\"clean or dirty classifier\")"
   ]
  },
  {
   "cell_type": "code",
   "execution_count": 123,
   "id": "b54389cd-9bd1-4ad0-943e-9296f3b62f4e",
   "metadata": {},
   "outputs": [],
   "source": [
    "#if want to load it use:\n",
    "\n",
    "#from keras.models import load_model\n",
    "#classifier = load_model('clean or dirty classifier')"
   ]
  },
  {
   "cell_type": "code",
   "execution_count": null,
   "id": "3c77d82e-d48d-4912-95d7-00e1ff5f2636",
   "metadata": {},
   "outputs": [],
   "source": []
  }
 ],
 "metadata": {
  "kernelspec": {
   "display_name": "Python 3 (ipykernel)",
   "language": "python",
   "name": "python3"
  },
  "language_info": {
   "codemirror_mode": {
    "name": "ipython",
    "version": 3
   },
   "file_extension": ".py",
   "mimetype": "text/x-python",
   "name": "python",
   "nbconvert_exporter": "python",
   "pygments_lexer": "ipython3",
   "version": "3.8.13"
  }
 },
 "nbformat": 4,
 "nbformat_minor": 5
}
